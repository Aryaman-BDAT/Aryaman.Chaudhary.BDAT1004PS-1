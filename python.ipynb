{
 "cells": [
  {
   "cell_type": "markdown",
   "metadata": {},
   "source": [
    "#Problem Set #1 (Python Part)"
   ]
  },
  {
   "cell_type": "markdown",
   "metadata": {},
   "source": [
    "#Question 6\n",
    "<h5>pig-latin</h5>"
   ]
  },
  {
   "cell_type": "code",
   "execution_count": 1,
   "metadata": {},
   "outputs": [
    {
     "name": "stdout",
     "output_type": "stream",
     "text": [
      "Enter a word to convert it to pig-Latin :Happy\n",
      "appyhay\n"
     ]
    }
   ],
   "source": [
    "#defining the pic() function\n",
    "def pig(passedString):\n",
    "    firstLetter=passedString[0]\n",
    "    if firstLetter in (\"A\",\"a\",\"E\",\"e\",\"I\",\"i\",\"O\",\"o\",\"U\",\"u\"):\n",
    "        passedString=passedString+\"way\"\n",
    "        print(passedString.casefold())\n",
    "    else:\n",
    "        finalString=passedString[1:]+passedString[0]+\"ay\"\n",
    "        print(finalString.casefold())\n",
    "\n",
    "#taking input from User        \n",
    "a=input(\"Enter a word to convert it to pig-Latin :\")\n",
    "pig(a)"
   ]
  },
  {
   "cell_type": "markdown",
   "metadata": {},
   "source": [
    "#Question 7\n",
    "<h5>Blood type count</h5>"
   ]
  },
  {
   "cell_type": "code",
   "execution_count": 2,
   "metadata": {},
   "outputs": [
    {
     "name": "stdout",
     "output_type": "stream",
     "text": [
      "There are  15  Patients of Blood type A\n",
      "There are  13  Patients of Blood type ab\n",
      "There are  15  Patients of Blood type O\n",
      "There are  0  Patients of Blood type OO\n",
      "There are  1  Patients of Blood type B\n"
     ]
    }
   ],
   "source": [
    "#opening file bloodtypr.txt\n",
    "str1 = open(\"bloodtype1.txt\", \"r\")\n",
    "\n",
    "#defining function bldcount() which accepts str1 as string and then converts it into a list and then count blood types\n",
    "def bldcount(str1):\n",
    "    arr = str1.split(\" \")\n",
    "    a = arr.count(\"A\")\n",
    "    print(\"There are \",a,\" Patients of Blood type A\")\n",
    "    ab = arr.count(\"AB\")\n",
    "    print(\"There are \",ab,\" Patients of Blood type ab\")\n",
    "    o = arr.count(\"O\")\n",
    "    print(\"There are \",o,\" Patients of Blood type O\")\n",
    "    oo = arr.count(\"OO\")\n",
    "    print(\"There are \",oo,\" Patients of Blood type OO\")\n",
    "    b = arr.count(\"B\")\n",
    "    print(\"There are \",b,\" Patients of Blood type B\")\n",
    "\n",
    "\n",
    "bldcount(str1.read())"
   ]
  },
  {
   "cell_type": "markdown",
   "metadata": {},
   "source": [
    "#Question 8\n",
    "<h5>Currency Conversion</h5>"
   ]
  },
  {
   "cell_type": "code",
   "execution_count": 3,
   "metadata": {},
   "outputs": [
    {
     "name": "stdout",
     "output_type": "stream",
     "text": [
      "Enter currency code :jpy\n",
      "Enter amount to be converted:100\n"
     ]
    },
    {
     "data": {
      "text/plain": [
       "1.241401"
      ]
     },
     "execution_count": 3,
     "metadata": {},
     "output_type": "execute_result"
    }
   ],
   "source": [
    "#defining curconv() to convert currency\n",
    "def curconv(code, amount):\n",
    "    data = []\n",
    "    with open(\"currencies.txt\", 'r') as read_obj:\n",
    "        for line in read_obj:\n",
    "            # print(line)\n",
    "            if code in line:\n",
    "                for word in line.split():\n",
    "                    data.append(word)\n",
    "\n",
    "    currency = float(data[1])\n",
    "    return currency * amount\n",
    "\n",
    "\n",
    "#Getting input from user\n",
    "currencyCode = input(\"Enter currency code :\")\n",
    "amountConversion = float(input(\"Enter amount to be converted:\"))\n",
    "\n",
    "#passing input to our function as args to obtain desired result\n",
    "curconv(currencyCode.upper(), amountConversion)"
   ]
  },
  {
   "cell_type": "markdown",
   "metadata": {},
   "source": [
    "#Question 9\n",
    "<h5>Exceptions</h5>\n",
    "\n",
    "\n",
    "|Situation          | Exception                                                                            |                \n",
    "| :---              |-----------------:                                                                      |          \n",
    "| adding 6 + ‘a’ | Raised when user hits Ctrl-C, the interrupt key                                        | \n",
    "| Referring to the 12th item of a list that has only 10 items     | IndexError: list index out of range         |  \n",
    "| Using a value that is out of range for a function’s input, such as calling math.sqrt( 1.0) |    ValueError: math domain error                      |  \n",
    "| Using an undeclared variable, such as print(x) when x has not been defined           | NameError: name 'x' is not defined                           |  \n",
    "|   Trying to open a file that does not exist, such as mistyping the file name or looking in the wrong directory.      | FileNotFoundError: [Errno 2] No such file or directory: 'demofile.txt'              |   "
   ]
  },
  {
   "cell_type": "markdown",
   "metadata": {},
   "source": [
    "#Question 10\n",
    "<h5>Frequencies</h5>"
   ]
  },
  {
   "cell_type": "code",
   "execution_count": 4,
   "metadata": {},
   "outputs": [
    {
     "name": "stdout",
     "output_type": "stream",
     "text": [
      "Type any sentence : The quick red fox got bored and went home.\n",
      "[1, 1, 1, 3, 5, 1, 1, 2, 1, 0, 1, 0, 1, 2, 4, 0, 1, 2, 0, 3, 1, 0, 1, 1, 0, 0]\n"
     ]
    }
   ],
   "source": [
    "def frequencies(text):\n",
    "    letters = \"abcdefghijklmnopqrstuvwxyz\"\n",
    "    lettersList = list(letters)\n",
    "    \n",
    "    res = []\n",
    "    count = {}\n",
    "    \n",
    "    for keys in text: \n",
    "        count[keys] = count.get(keys, 0) + 1\n",
    "    \n",
    "    for i in range(26):\n",
    "        if lettersList[i] in count:\n",
    "            res.append(count[lettersList[i]])\n",
    "        else:\n",
    "            res.append(0)\n",
    "            \n",
    "    print(res)\n",
    "\n",
    "#Taking input from user for the string\n",
    "\n",
    "frequencies(input(\"Type any sentence : \").casefold())"
   ]
  },
  {
   "cell_type": "code",
   "execution_count": null,
   "metadata": {},
   "outputs": [],
   "source": []
  }
 ],
 "metadata": {
  "kernelspec": {
   "display_name": "Python 3",
   "language": "python",
   "name": "python3"
  },
  "language_info": {
   "codemirror_mode": {
    "name": "ipython",
    "version": 3
   },
   "file_extension": ".py",
   "mimetype": "text/x-python",
   "name": "python",
   "nbconvert_exporter": "python",
   "pygments_lexer": "ipython3",
   "version": "3.6.5"
  }
 },
 "nbformat": 4,
 "nbformat_minor": 2
}
