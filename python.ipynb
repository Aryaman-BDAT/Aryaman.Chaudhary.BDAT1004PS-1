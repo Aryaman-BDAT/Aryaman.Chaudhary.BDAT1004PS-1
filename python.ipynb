{
 "cells": [
  {
   "cell_type": "markdown",
   "metadata": {},
   "source": [
    "#Problem Set #1 (Python Part)"
   ]
  },
  {
   "cell_type": "markdown",
   "metadata": {},
   "source": [
    "#Question 6\n",
    "<h5>pig-latin</h5>"
   ]
  },
  {
   "cell_type": "code",
   "execution_count": 1,
   "metadata": {},
   "outputs": [
    {
     "name": "stdout",
     "output_type": "stream",
     "text": [
      "Enter a word to convert it to pig-Latin :Hiroshima\n",
      "iroshimahay\n"
     ]
    }
   ],
   "source": [
    "#defining the pig() function\n",
    "def pig(passedString):\n",
    "    firstLetter=passedString[0]\n",
    "    if firstLetter in (\"A\",\"a\",\"E\",\"e\",\"I\",\"i\",\"O\",\"o\",\"U\",\"u\"):\n",
    "        passedString=passedString+\"way\"\n",
    "        print(passedString.casefold())\n",
    "    else:\n",
    "        finalString=passedString[1:]+passedString[0]+\"ay\"\n",
    "        print(finalString.casefold())\n",
    "\n",
    "#taking input from User        \n",
    "a=input(\"Enter a word to convert it to pig-Latin :\")\n",
    "pig(a)"
   ]
  },
  {
   "cell_type": "markdown",
   "metadata": {},
   "source": [
    "#Question 7\n",
    "<h5>Blood type count</h5>"
   ]
  },
  {
   "cell_type": "code",
   "execution_count": null,
   "metadata": {},
   "outputs": [],
   "source": [
    "#opening file bloodtypr.txt\n",
    "str1 = open(\"bloodtype1.txt\", \"r\")\n",
    "\n",
    "#defining function bldcount() which accepts str1 as string and then converts it into a list and then count blood types\n",
    "def bldcount(str1):\n",
    "    arr = str1.split(\" \")\n",
    "    a = arr.count(\"A\")\n",
    "    print(\"There are \",a,\" Patients of Blood type A\")\n",
    "    ab = arr.count(\"AB\")\n",
    "    print(\"There are \",ab,\" Patients of Blood type ab\")\n",
    "    o = arr.count(\"O\")\n",
    "    print(\"There are \",o,\" Patients of Blood type O\")\n",
    "    oo = arr.count(\"OO\")\n",
    "    print(\"There are \",oo,\" Patients of Blood type OO\")\n",
    "    b = arr.count(\"B\")\n",
    "    print(\"There are \",b,\" Patients of Blood type B\")\n",
    "\n",
    "\n",
    "bldcount(str1.read())"
   ]
  },
  {
   "cell_type": "markdown",
   "metadata": {},
   "source": [
    "#Question 8\n",
    "<h5>Currency Conversion</h5>"
   ]
  },
  {
   "cell_type": "code",
   "execution_count": null,
   "metadata": {},
   "outputs": [],
   "source": [
    "#importing RegEx\n",
    "import re\n",
    "\n",
    "#defining conversion list\n",
    "conversion_list = \"\"\"\n",
    "AUD    1.0345157    Australian Dollar\n",
    "CHF    1.0237414    Swiss Franc\n",
    "CNY    0.1550176    Chinese Yuan\n",
    "DKK    0.1651442    Danish Krone\n",
    "EUR    1.2296544    Euro\n",
    "GBP    1.5550989    British Pound\n",
    "HKD    0.1270207    Hong Kong Dollar\n",
    "INR    0.0177643    Indian Rupee\n",
    "JPY    0.01241401    Japanese Yen\n",
    "MXN    0.0751848    Mexican Peso\n",
    "MYR    0.3145411    Malaysian Ringgit\n",
    "NOK    0.1677063    Norwegian Krone\n",
    "NZD    0.8003591    New Zealand Dollar\n",
    "PHP    0.0233234    Philippine Peso\n",
    "SEK    0.148269    Swedish Krona\n",
    "SGD    0.788871    Singapore Dollar\n",
    "THB    0.0313789    Thai Baht\n",
    "\"\"\"\n",
    "\n",
    "#using re.findall() capturing currency codes and currency values\n",
    "conversion_currency_id = re.findall(r\"[A-Z]{3}\", conversion_list)\n",
    "conversion_currecy_price = re.findall(r\"\\d+\\.?\\d*\", conversion_list)\n",
    "\n",
    "#creating a dictionary and storing price and currency id \n",
    "currency_dict = {}\n",
    "\n",
    "for key in conversion_currency_id:\n",
    "    for value in conversion_currecy_price:\n",
    "        currency_dict[key] = value\n",
    "        conversion_currecy_price.remove(value)\n",
    "        break\n",
    "\n",
    "#defining curconv() to print appropriate result\n",
    "def curconv(requested_curr, requested_amount):\n",
    "    currency_price = currency_dict.get(requested_curr)\n",
    "    conversion = int(requested_amount)*float(currency_price)\n",
    "    print(conversion)\n",
    "    \n",
    "#Getting input from user\n",
    "currencyCode = input(\"Enter currency code :\")\n",
    "amountConversion = input(\"Enter amount to be converted :\")\n",
    "\n",
    "#passing input to our function as args to obtain desired result\n",
    "curconv(currencyCode.upper(), amountConversion)"
   ]
  },
  {
   "cell_type": "markdown",
   "metadata": {},
   "source": [
    "#Question 9\n",
    "<h5>Exceptions</h5>\n",
    "\n",
    "<li>adding 6 + ‘a’<br>TypeError: can only concatenate str (not \"int\") to str</li>\n",
    "</li>Referring to the 12th item of a list that has only 10 items<br>IndexError: list index out of range</li>\n",
    "<li>Using a value that is out of range for a function’s input, such as calling math.sqrt( 1.0)<br>ValueError: math domain error</li>\n",
    "<li>Using an undeclared variable, such as print(x)\n",
    "when x has not been defined<br>NameError: name 'x' is not defined</li>\n",
    "<li>Trying to open a file that does not exist, such as mistyping the file name or looking in the wrong directory.<br></li>"
   ]
  },
  {
   "cell_type": "markdown",
   "metadata": {},
   "source": [
    "#Question 10\n",
    "<h5>Frequencies</h5>"
   ]
  },
  {
   "cell_type": "code",
   "execution_count": null,
   "metadata": {},
   "outputs": [],
   "source": [
    "#Importing reGex for text pattern discription\n",
    "import re\n",
    "\n",
    "#converting string of alphabets into list of letters\n",
    "letters = \"abcdefghijklmnopqrstuvwxyz\"\n",
    "letters_arr = list(letters)\n",
    "\n",
    "#definition of function frequency where we count how many times each letter is used in the given string\n",
    "def frequency(text):\n",
    "    count = []\n",
    "    for letter in letters_arr:\n",
    "        if letter in text:\n",
    "            count.append(len(re.findall(letter, text)))\n",
    "        else:\n",
    "            count.append(0)\n",
    "    print(count)\n",
    "\n",
    "\n",
    "#taking input from user and directly passing it as an argument to frequency() to save small memory\n",
    "frequency(input(\"Type any sentence : \"))"
   ]
  },
  {
   "cell_type": "code",
   "execution_count": null,
   "metadata": {},
   "outputs": [],
   "source": []
  }
 ],
 "metadata": {
  "kernelspec": {
   "display_name": "Python 3",
   "language": "python",
   "name": "python3"
  },
  "language_info": {
   "codemirror_mode": {
    "name": "ipython",
    "version": 3
   },
   "file_extension": ".py",
   "mimetype": "text/x-python",
   "name": "python",
   "nbconvert_exporter": "python",
   "pygments_lexer": "ipython3",
   "version": "3.6.5"
  }
 },
 "nbformat": 4,
 "nbformat_minor": 2
}
